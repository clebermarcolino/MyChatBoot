{
  "nbformat": 4,
  "nbformat_minor": 0,
  "metadata": {
    "colab": {
      "provenance": [],
      "authorship_tag": "ABX9TyN0AE3Ni4jebs21Kb0mHnkq",
      "include_colab_link": true
    },
    "kernelspec": {
      "name": "python3",
      "display_name": "Python 3"
    },
    "language_info": {
      "name": "python"
    }
  },
  "cells": [
    {
      "cell_type": "markdown",
      "metadata": {
        "id": "view-in-github",
        "colab_type": "text"
      },
      "source": [
        "<a href=\"https://colab.research.google.com/github/clebermarcolino/MyChatBoot/blob/main/My_Chat_Boot_IA.ipynb\" target=\"_parent\"><img src=\"https://colab.research.google.com/assets/colab-badge.svg\" alt=\"Open In Colab\"/></a>"
      ]
    },
    {
      "cell_type": "markdown",
      "source": [
        " Instalando o SDK do google e a biblioteca emoji"
      ],
      "metadata": {
        "id": "ROexoGpdbbtC"
      }
    },
    {
      "cell_type": "code",
      "source": [
        "!pip install -q -U google-generativeai\n",
        "!pip install emoji"
      ],
      "metadata": {
        "id": "Wwi9WVDPbzFz"
      },
      "execution_count": null,
      "outputs": []
    },
    {
      "cell_type": "code",
      "execution_count": null,
      "metadata": {
        "id": "7vyiQevS1pFi"
      },
      "outputs": [],
      "source": [
        "import google.generativeai as genai\n",
        "from google.colab import userdata\n",
        "import textwrap\n",
        "from IPython.display import display\n",
        "from IPython.display import Markdown\n",
        "from emoji import emojize\n",
        "from tkinter import *\n",
        "\n",
        "# Import the Python SDK\n",
        "\n",
        "api_key = userdata.get(\"Secret_Key\")\n",
        "genai.configure(api_key=api_key)\n",
        "\n",
        "# Configurações\n",
        "\n",
        "generation_config = {\n",
        "    \"candidate_count\": 1,\n",
        "    \"temperature\": 1,\n",
        "}\n",
        "\n",
        "safety_settings = {\n",
        "    \"Harassment\": \"HIGH\",\n",
        "    \"Hate\": \"HIGH\",\n",
        "    \"Sexual\": \"HIGH\",\n",
        "    \"Dangerous\": \"HIGH\",\n",
        "}\n",
        "\n",
        "# Inicialização do modelo\n",
        "\n",
        "model = genai.GenerativeModel(model_name=\"gemini-1.5-pro-latest\",\n",
        "                              generation_config=generation_config,\n",
        "                              safety_settings=safety_settings)\n",
        "\n",
        "chat = model.start_chat(history=[])\n",
        "\n",
        "usuario = input(f\"Qual é seu nome? {emojize(':slightly_smiling_face:')}\")\n",
        "prompt = input(f\"Olá, {usuario} {emojize(':beaming_face_with_smiling_eyes:')} Vamos começar nossa primeira interação! Digite qualquer pergunta ou comando: \")\n",
        "\n",
        "while(prompt!= \"fim\"):\n",
        "  response = chat.send_message(prompt)\n",
        "  print(\"Resultado: \", response.text, \"\\n\")\n",
        "  prompt = str.lower(input(f\"Posso ajudar em mais alguma coisa? {emojize(':smiling_face_with_open_hands:')} (Para encerrar a conversa digite 'fim')\"))\n",
        "\n",
        "historico = str.lower(input(f\"Deseja ver o histórico de prompts de forma mais rápida e clara? {emojize(':man_tipping_hand:')} (sim/não)\"))\n",
        "\n",
        "while(historico != \"sim\" and historico != \"não\"):\n",
        "  historico = str.lower(input(f\"Entrada inválida! Digite novamente por favor: {emojize(':clown_face:')}\"))\n",
        "\n",
        "if(historico == \"sim\"):\n",
        "  def to_markdown(text):\n",
        "    text = text.replace('•', '  *')\n",
        "    return Markdown(textwrap.indent(text, '> ', predicate=lambda _: True))\n",
        "\n",
        "\n",
        "#Imprimindo o histórico e Melhorando a vizualização\n",
        "\n",
        "  for message in chat.history:\n",
        "    display(to_markdown(f'**{message.role}**: {message.parts[0].text}'))\n",
        "    print('-------------------------------------------')\n",
        "\n",
        "else:\n",
        "  print(emojize('Espero ter ajudado. Até a próxima! :waving_hand:'))"
      ]
    }
  ]
}